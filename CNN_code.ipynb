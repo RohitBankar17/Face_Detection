{
 "cells": [
  {
   "cell_type": "code",
   "execution_count": 1,
   "metadata": {
    "scrolled": true
   },
   "outputs": [],
   "source": [
    "from keras.preprocessing.image import ImageDataGenerator\n",
    "from keras.models import Sequential, Model, load_model\n",
    "from keras.layers import Conv2D, Input, ZeroPadding2D,BatchNormalization, Activation, MaxPooling2D, Flatten, Dense, Dropout\n",
    "from keras.callbacks import TensorBoard, ModelCheckpoint\n"
   ]
  },
  {
   "cell_type": "code",
   "execution_count": 2,
   "metadata": {},
   "outputs": [],
   "source": [
    "from sklearn.model_selection import train_test_split\n",
    "from sklearn.metrics import f1_score\n",
    "from sklearn.utils import shuffle\n"
   ]
  },
  {
   "cell_type": "code",
   "execution_count": 3,
   "metadata": {},
   "outputs": [],
   "source": [
    "import cv2\n",
    "import imutils\n",
    "import numpy as np"
   ]
  },
  {
   "cell_type": "code",
   "execution_count": 4,
   "metadata": {},
   "outputs": [],
   "source": [
    "model= Sequential([\n",
    "    Conv2D(100,(3,3),activation='relu',input_shape=(150,150,3)),\n",
    "    MaxPooling2D(2,2),\n",
    "    \n",
    "    Conv2D(100,(3,3),activation='relu'),\n",
    "    MaxPooling2D(2,2),\n",
    "    \n",
    "    Conv2D(100,(3,3),activation='relu'),\n",
    "    MaxPooling2D(2,2),\n",
    "    \n",
    "    Flatten(),\n",
    "    Dropout(0.5),\n",
    "    Dense(50,activation='relu'),\n",
    "    Dense(2, activation='softmax')\n",
    "])\n",
    "model.compile(optimizer='adam', loss='binary_crossentropy', metrics=['acc'])\n"
   ]
  },
  {
   "cell_type": "code",
   "execution_count": 6,
   "metadata": {},
   "outputs": [
    {
     "name": "stdout",
     "output_type": "stream",
     "text": [
      "Found 1315 images belonging to 2 classes.\n"
     ]
    }
   ],
   "source": [
    "Training_Dir=\"./Dataset/train\"\n",
    "train_datagen = ImageDataGenerator(rescale=1.0/255,\n",
    "                                   rotation_range=90,\n",
    "                                   width_shift_range=0.4,\n",
    "                                   height_shift_range=0.4,\n",
    "                                   shear_range=0.2,\n",
    "                                   zoom_range=0.2,\n",
    "                                   horizontal_flip=True,\n",
    "                                   vertical_flip=True,\n",
    "                                   fill_mode='nearest')\n",
    "train_generator = train_datagen.flow_from_directory(Training_Dir, \n",
    "                                                    batch_size=10, \n",
    "                                                    target_size=(150, 150))"
   ]
  },
  {
   "cell_type": "code",
   "execution_count": 7,
   "metadata": {},
   "outputs": [
    {
     "name": "stdout",
     "output_type": "stream",
     "text": [
      "Found 194 images belonging to 2 classes.\n"
     ]
    }
   ],
   "source": [
    "Validation_Dir=\"./Dataset/test\"\n",
    "validation_datagen = ImageDataGenerator(rescale=1.0/255)\n",
    "validation_generator=validation_datagen.flow_from_directory(Validation_Dir, \n",
    "                                                         batch_size=10, \n",
    "                                                         target_size=(150, 150))"
   ]
  },
  {
   "cell_type": "code",
   "execution_count": 8,
   "metadata": {},
   "outputs": [],
   "source": [
    "checkpoint = ModelCheckpoint('best_model-{epoch:03d}.hdf5',monitor='val_loss', verbose=0, save_best_only=True,mode='min')\n"
   ]
  },
  {
   "cell_type": "code",
   "execution_count": 9,
   "metadata": {},
   "outputs": [
    {
     "name": "stdout",
     "output_type": "stream",
     "text": [
      "WARNING:tensorflow:From <ipython-input-9-fb797fe3d4cd>:1: Model.fit_generator (from tensorflow.python.keras.engine.training) is deprecated and will be removed in a future version.\n",
      "Instructions for updating:\n",
      "Please use Model.fit, which supports generators.\n",
      "Epoch 1/10\n",
      "132/132 [==============================] - 71s 538ms/step - loss: 0.7014 - acc: 0.5490 - val_loss: 0.7566 - val_acc: 0.5000\n",
      "Epoch 2/10\n",
      "132/132 [==============================] - 77s 580ms/step - loss: 0.6655 - acc: 0.5985 - val_loss: 0.3810 - val_acc: 0.8918\n",
      "Epoch 3/10\n",
      "132/132 [==============================] - 81s 610ms/step - loss: 0.6079 - acc: 0.6837 - val_loss: 0.3679 - val_acc: 0.8711\n",
      "Epoch 4/10\n",
      "132/132 [==============================] - 85s 642ms/step - loss: 0.6104 - acc: 0.6692 - val_loss: 0.4260 - val_acc: 0.8454\n",
      "Epoch 5/10\n",
      "132/132 [==============================] - 85s 645ms/step - loss: 0.5987 - acc: 0.6897 - val_loss: 0.3819 - val_acc: 0.9175\n",
      "Epoch 6/10\n",
      "132/132 [==============================] - 85s 647ms/step - loss: 0.5465 - acc: 0.7361 - val_loss: 0.3137 - val_acc: 0.8763\n",
      "Epoch 7/10\n",
      "132/132 [==============================] - 87s 657ms/step - loss: 0.5099 - acc: 0.7802 - val_loss: 0.3971 - val_acc: 0.8247\n",
      "Epoch 8/10\n",
      "132/132 [==============================] - 89s 674ms/step - loss: 0.4267 - acc: 0.8426 - val_loss: 0.2398 - val_acc: 0.9124\n",
      "Epoch 9/10\n",
      "132/132 [==============================] - 86s 651ms/step - loss: 0.3844 - acc: 0.8350 - val_loss: 0.2234 - val_acc: 0.9175\n",
      "Epoch 10/10\n",
      "132/132 [==============================] - 87s 662ms/step - loss: 0.3974 - acc: 0.8289 - val_loss: 0.1163 - val_acc: 0.9845\n"
     ]
    }
   ],
   "source": [
    "history= model.fit_generator(train_generator,epochs=10,validation_data=validation_generator,callbacks=[checkpoint])"
   ]
  },
  {
   "cell_type": "code",
   "execution_count": null,
   "metadata": {},
   "outputs": [],
   "source": []
  }
 ],
 "metadata": {
  "kernelspec": {
   "display_name": "Python 3.7.3 64-bit ('base': conda)",
   "language": "python",
   "name": "python37364bitbaseconda971ba31e63c548448c452f11cdbbc5de"
  },
  "language_info": {
   "codemirror_mode": {
    "name": "ipython",
    "version": 3
   },
   "file_extension": ".py",
   "mimetype": "text/x-python",
   "name": "python",
   "nbconvert_exporter": "python",
   "pygments_lexer": "ipython3",
   "version": "3.8.3"
  }
 },
 "nbformat": 4,
 "nbformat_minor": 4
}
