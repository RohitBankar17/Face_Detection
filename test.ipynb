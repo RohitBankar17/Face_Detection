{
 "cells": [
  {
   "cell_type": "code",
   "execution_count": null,
   "metadata": {},
   "outputs": [],
   "source": [
    "import cv2\n",
    "\n",
    "\n",
    "import numpy as np\n",
    "from keras.models import load_model\n",
    "model=load_model(\"best_model-010.hdf5\")\n",
    "\n",
    "\n",
    "results={0:'UNSAFE',1:'SAFE'}\n",
    "GR_dict={0:(0,0,255),1:(0,255,0)}\n",
    "rect_size=4\n",
    "cap=cv2.VideoCapture(0)\n",
    "fourcc=cv2.VideoWriter_fourcc('X','V','I','D')\n",
    "out= cv2.VideoWriter('Output1.avi',fourcc,20.0,(640,480))\n",
    "\n",
    "haarcascade=cv2.CascadeClassifier(cv2.data.haarcascades + 'haarcascade_frontalface_default.xml')\n",
    "while True:\n",
    "    (rval,im)=cap.read()\n",
    "    if rval:\n",
    "            assert not isinstance(im,type(None)), 'image not found'\n",
    "    im=cv2.flip(im,1,1)\n",
    "    rerect_size=cv2.resize(im,(im.shape[1] // rect_size, im.shape[0] // rect_size))\n",
    "    \n",
    "    faces = haarcascade.detectMultiScale(rerect_size)\n",
    "    for f in faces:\n",
    "        (x,y,w,h) =[v*rect_size for v in f]\n",
    "        face_img= im[y:y+h, x:x+w]\n",
    "        rerect_sized=cv2.resize(face_img,(150,150))\n",
    "        normalized=rerect_sized/255.0\n",
    "        reshaped=np.reshape(normalized,(1,150,150,3))\n",
    "        reshaped= np.vstack([reshaped])\n",
    "        result= model.predict(reshaped)\n",
    "        \n",
    "        label=np.argmax(result,axis=1) [0]\n",
    "        \n",
    "        cv2.rectangle(im,(x,y),(x+w,y+h),GR_dict[label],2)\n",
    "        cv2.rectangle(im,(x,y-40),(x+w,y),GR_dict[label],-1)\n",
    "        cv2.putText(im, results[label],(x,y-10),cv2.FONT_HERSHEY_SIMPLEX,0.8,(255,255,255),2)\n",
    "        out.write(im)\n",
    "        cv2.imshow('LIVE',im)\n",
    "        key=cv2.waitKey(10)\n",
    "        \n",
    "        if key==27:\n",
    "            break\n",
    "cap.release()\n",
    "cv2.destroyAllWindows()"
   ]
  },
  {
   "cell_type": "code",
   "execution_count": null,
   "metadata": {},
   "outputs": [],
   "source": []
  }
 ],
 "metadata": {
  "kernelspec": {
   "display_name": "Python 3.7.3 64-bit ('base': conda)",
   "language": "python",
   "name": "python37364bitbaseconda971ba31e63c548448c452f11cdbbc5de"
  },
  "language_info": {
   "codemirror_mode": {
    "name": "ipython",
    "version": 3
   },
   "file_extension": ".py",
   "mimetype": "text/x-python",
   "name": "python",
   "nbconvert_exporter": "python",
   "pygments_lexer": "ipython3",
   "version": "3.8.3"
  }
 },
 "nbformat": 4,
 "nbformat_minor": 4
}
